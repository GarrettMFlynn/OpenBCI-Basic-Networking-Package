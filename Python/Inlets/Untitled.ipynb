{
 "cells": [
  {
   "cell_type": "code",
   "execution_count": null,
   "metadata": {},
   "outputs": [],
   "source": [
    "from pyOpenBCI import OpenBCICyton\n",
    "from pylsl import StreamInlet, resolve_stream\n",
    "from collections import deque\n",
    "import numpy as np\n",
    "import time\n",
    "from matplotlib import style\n",
    "import matplotlib.pyplot as plt"
   ]
  },
  {
   "cell_type": "code",
   "execution_count": 2,
   "metadata": {},
   "outputs": [
    {
     "name": "stdout",
     "output_type": "stream",
     "text": [
      "Collecting xmltodict\n",
      "  Using cached https://files.pythonhosted.org/packages/28/fd/30d5c1d3ac29ce229f6bdc40bbc20b28f716e8b363140c26eff19122d8a5/xmltodict-0.12.0-py2.py3-none-any.whl\n",
      "Installing collected packages: xmltodict\n",
      "Successfully installed xmltodict-0.12.0\n"
     ]
    }
   ],
   "source": [
    "last_print = time.time()\n",
    "fps_counter = deque(maxlen=150)"
   ]
  },
  {
   "cell_type": "code",
   "execution_count": null,
   "metadata": {},
   "outputs": [],
   "source": [
    "# Resolve an EEG stream on the LSL network\n",
    "print('looking for an EEG stream...')\n",
    "streams = resolve_stream('type','EEG')\n",
    "# Creates a new inlet to read from the stream\n",
    "inlet = StreamInlet(streams[0])\n",
    "channel_data = {}"
   ]
  },
  {
   "cell_type": "code",
   "execution_count": null,
   "metadata": {},
   "outputs": [],
   "source": [
    "for i in range(2): # how many iterations. Change to a while True\n",
    "\n",
    "    for j in range(125): #number of channels\n",
    "        sample, timestamp = inlet.pull_sample()\n",
    "        if j not in channel_data:\n",
    "            channel_data[j] = [sample]\n",
    "        else:\n",
    "            channel_data[j].append(sample)\n",
    "\n",
    "    fps_counter.append(time.time() - last_print)\n",
    "    last_print = time.time()\n",
    "    cur_raw_hz = 1/(sum(fps_counter)/len(fps_counter))\n",
    "    print(cur_raw_hz)\n"
   ]
  },
  {
   "cell_type": "code",
   "execution_count": null,
   "metadata": {},
   "outputs": [],
   "source": [
    "# Not working for more than one sample\n",
    "for chan in channel_data:\n",
    "    print(channel_data[chan])\n",
    "    plt.plot(channel_data[chan])\n",
    "plt.show()"
   ]
  },
  {
   "cell_type": "code",
   "execution_count": null,
   "metadata": {},
   "outputs": [],
   "source": []
  }
 ],
 "metadata": {
  "kernelspec": {
   "display_name": "Python 3",
   "language": "python",
   "name": "python3"
  },
  "language_info": {
   "codemirror_mode": {
    "name": "ipython",
    "version": 3
   },
   "file_extension": ".py",
   "mimetype": "text/x-python",
   "name": "python",
   "nbconvert_exporter": "python",
   "pygments_lexer": "ipython3",
   "version": "3.7.5"
  }
 },
 "nbformat": 4,
 "nbformat_minor": 2
}
